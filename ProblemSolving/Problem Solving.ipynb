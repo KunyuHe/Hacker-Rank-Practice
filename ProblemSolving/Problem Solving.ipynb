{
 "cells": [
  {
   "cell_type": "markdown",
   "metadata": {},
   "source": [
    "## Diagonal Difference"
   ]
  },
  {
   "cell_type": "code",
   "execution_count": 1,
   "metadata": {},
   "outputs": [],
   "source": [
    "arr = [[11, 2, 4],\n",
    "       [4, 5, 6],\n",
    "       [10, 8, -12]]"
   ]
  },
  {
   "cell_type": "code",
   "execution_count": 2,
   "metadata": {},
   "outputs": [],
   "source": [
    "def diagonalDifference(arr):\n",
    "    sum = 0\n",
    "\n",
    "    for i in range(len(arr)):\n",
    "        sum += arr[i][i] - arr[i][-1-i]\n",
    "    \n",
    "    return abs(sum)"
   ]
  },
  {
   "cell_type": "code",
   "execution_count": 3,
   "metadata": {},
   "outputs": [
    {
     "data": {
      "text/plain": [
       "15"
      ]
     },
     "execution_count": 3,
     "metadata": {},
     "output_type": "execute_result"
    }
   ],
   "source": [
    "diagonalDifference(arr)"
   ]
  },
  {
   "cell_type": "markdown",
   "metadata": {},
   "source": [
    "## Plus Minus"
   ]
  },
  {
   "cell_type": "code",
   "execution_count": 4,
   "metadata": {},
   "outputs": [],
   "source": [
    "arr = [-4, 3, -9, 0, 4, 1]"
   ]
  },
  {
   "cell_type": "code",
   "execution_count": 5,
   "metadata": {},
   "outputs": [],
   "source": [
    "def plusMinus(arr):\n",
    "    pos, neg, total = 0, 0, len(arr)\n",
    "    \n",
    "    for num in arr:\n",
    "        pos += num > 0\n",
    "        neg += num < 0\n",
    "    zero = total - pos - neg\n",
    "    \n",
    "    list(map(lambda x: print(\"{:.6f}\".format(round(x/total, 6))), [pos, neg, zero]))"
   ]
  },
  {
   "cell_type": "code",
   "execution_count": 6,
   "metadata": {},
   "outputs": [
    {
     "name": "stdout",
     "output_type": "stream",
     "text": [
      "0.500000\n",
      "0.333333\n",
      "0.166667\n"
     ]
    }
   ],
   "source": [
    "plusMinus(arr)"
   ]
  },
  {
   "cell_type": "markdown",
   "metadata": {},
   "source": [
    "## Staircase"
   ]
  },
  {
   "cell_type": "code",
   "execution_count": 12,
   "metadata": {},
   "outputs": [],
   "source": [
    "def staircase(n):\n",
    "    for i in range(1, n+1):\n",
    "        print((\"#\" * i).rjust(n))"
   ]
  },
  {
   "cell_type": "code",
   "execution_count": 13,
   "metadata": {},
   "outputs": [
    {
     "name": "stdout",
     "output_type": "stream",
     "text": [
      "     #\n",
      "    ##\n",
      "   ###\n",
      "  ####\n",
      " #####\n",
      "######\n"
     ]
    }
   ],
   "source": [
    "staircase(6)"
   ]
  },
  {
   "cell_type": "markdown",
   "metadata": {},
   "source": [
    "## Mini-Max Sum"
   ]
  },
  {
   "cell_type": "code",
   "execution_count": 14,
   "metadata": {},
   "outputs": [],
   "source": [
    "arr = [-4, 3, -9, 0, 4, 1]"
   ]
  },
  {
   "cell_type": "code",
   "execution_count": 15,
   "metadata": {},
   "outputs": [],
   "source": [
    "def miniMaxSum(arr):\n",
    "    sums = [sum(arr[0:i] + arr[i+1:]) for i in range(len(arr))]\n",
    "\n",
    "    print(min(sums), max(sums))\n"
   ]
  },
  {
   "cell_type": "code",
   "execution_count": 16,
   "metadata": {},
   "outputs": [
    {
     "name": "stdout",
     "output_type": "stream",
     "text": [
      "-9 4\n"
     ]
    }
   ],
   "source": [
    "miniMaxSum(arr)"
   ]
  },
  {
   "cell_type": "markdown",
   "metadata": {},
   "source": [
    "## Time Conversion\n"
   ]
  },
  {
   "cell_type": "code",
   "execution_count": 17,
   "metadata": {},
   "outputs": [],
   "source": [
    "string = \"12:40:22PM\""
   ]
  },
  {
   "cell_type": "code",
   "execution_count": 18,
   "metadata": {},
   "outputs": [],
   "source": [
    "def timeConversion(s):\n",
    "    s = s.strip()\n",
    "    if \"AM\" in s:\n",
    "        if s[:2] == \"12\":\n",
    "            return \"00{}\".format(s[2:-2])\n",
    "        return s[:-2]\n",
    "    if \"PM\" in s and s[:2] == \"12\":\n",
    "        return \"12{}\".format(s[2:-2])\n",
    "    return \"{}{}\".format(int(s[:2]) + 12, s[2:-2])"
   ]
  },
  {
   "cell_type": "code",
   "execution_count": 19,
   "metadata": {},
   "outputs": [
    {
     "data": {
      "text/plain": [
       "'12:40:22'"
      ]
     },
     "execution_count": 19,
     "metadata": {},
     "output_type": "execute_result"
    }
   ],
   "source": [
    "timeConversion(string)"
   ]
  },
  {
   "cell_type": "markdown",
   "metadata": {},
   "source": [
    "## Apple and Orange"
   ]
  },
  {
   "cell_type": "code",
   "execution_count": 22,
   "metadata": {},
   "outputs": [],
   "source": [
    "def count(s, t, loc, lst):\n",
    "    return sum([(loc + dist) >= s and (loc + dist) <= t for dist in lst])\n",
    "\n",
    "\n",
    "def countApplesAndOranges(s, t, a, b, apples, oranges):\n",
    "    print(count(s, t, a, apples))\n",
    "    print(count(s, t, b, oranges))"
   ]
  },
  {
   "cell_type": "code",
   "execution_count": 23,
   "metadata": {},
   "outputs": [
    {
     "name": "stdout",
     "output_type": "stream",
     "text": [
      "1\n",
      "1\n"
     ]
    }
   ],
   "source": [
    "countApplesAndOranges(7, 11, 5, 15, [-2, 2, 1], [5, -6])"
   ]
  },
  {
   "cell_type": "markdown",
   "metadata": {},
   "source": [
    "## Kangaroo"
   ]
  },
  {
   "cell_type": "code",
   "execution_count": 134,
   "metadata": {
    "code_folding": []
   },
   "outputs": [],
   "source": [
    "def kangaroo(x1, v1, x2, v2):\n",
    "    if v1 <= v2:\n",
    "        return \"NO\"\n",
    "    elif (x1 - x2) % (v2 - v1) == 0:\n",
    "        return \"YES\"\n",
    "    else:\n",
    "        return \"NO\""
   ]
  },
  {
   "cell_type": "code",
   "execution_count": 136,
   "metadata": {},
   "outputs": [
    {
     "data": {
      "text/plain": [
       "'NO'"
      ]
     },
     "execution_count": 136,
     "metadata": {},
     "output_type": "execute_result"
    }
   ],
   "source": [
    "kangaroo(0, 2, 5, 3)"
   ]
  },
  {
   "cell_type": "markdown",
   "metadata": {},
   "source": [
    "## Between Two Sets"
   ]
  },
  {
   "cell_type": "code",
   "execution_count": 97,
   "metadata": {},
   "outputs": [],
   "source": [
    "def getTotalX(a, b):\n",
    "    count = 0\n",
    "\n",
    "    for num in range(max(a), min(b) + 1):\n",
    "        if all([num % elem == 0 for elem in a]) and \\\n",
    "           all([elem % num == 0 for elem in b]):\n",
    "            count += 1\n",
    "\n",
    "    print(count)"
   ]
  },
  {
   "cell_type": "code",
   "execution_count": 98,
   "metadata": {},
   "outputs": [
    {
     "name": "stdout",
     "output_type": "stream",
     "text": [
      "3\n"
     ]
    }
   ],
   "source": [
    "getTotalX([2, 4], [16, 32, 96])"
   ]
  },
  {
   "cell_type": "markdown",
   "metadata": {},
   "source": [
    "## Breaking the Records"
   ]
  },
  {
   "cell_type": "code",
   "execution_count": 102,
   "metadata": {},
   "outputs": [],
   "source": [
    "def breakingRecords(scores):\n",
    "    score_min = score_max = scores.pop(0)\n",
    "    min_count = max_count = 0\n",
    "\n",
    "    for score in scores:\n",
    "        if score < score_min:\n",
    "            score_min = score\n",
    "            min_count += 1\n",
    "        if score > score_max:\n",
    "            score_max = score\n",
    "            max_count += 1\n",
    "\n",
    "    return min_count, max_count\n"
   ]
  },
  {
   "cell_type": "code",
   "execution_count": 104,
   "metadata": {},
   "outputs": [
    {
     "data": {
      "text/plain": [
       "(0, 4)"
      ]
     },
     "execution_count": 104,
     "metadata": {},
     "output_type": "execute_result"
    }
   ],
   "source": [
    "breakingRecords([3, 4, 21, 36, 10, 28, 35, 5, 24, 42])"
   ]
  },
  {
   "cell_type": "markdown",
   "metadata": {},
   "source": [
    "## Birthday Chocolate"
   ]
  },
  {
   "cell_type": "code",
   "execution_count": 105,
   "metadata": {},
   "outputs": [],
   "source": [
    "def birthday(s, d, m):\n",
    "    count = 0\n",
    "\n",
    "    for i in range(len(s) - m + 1):\n",
    "        if sum(s[i:i+m]) == d:\n",
    "            count += 1\n",
    "\n",
    "    return count\n"
   ]
  },
  {
   "cell_type": "code",
   "execution_count": 106,
   "metadata": {},
   "outputs": [
    {
     "data": {
      "text/plain": [
       "2"
      ]
     },
     "execution_count": 106,
     "metadata": {},
     "output_type": "execute_result"
    }
   ],
   "source": [
    "birthday([1, 2, 1, 3, 2], 3, 2)"
   ]
  },
  {
   "cell_type": "code",
   "execution_count": 107,
   "metadata": {},
   "outputs": [
    {
     "data": {
      "text/plain": [
       "0"
      ]
     },
     "execution_count": 107,
     "metadata": {},
     "output_type": "execute_result"
    }
   ],
   "source": [
    "birthday([1, 1, 1, 1, 1], 3, 2)"
   ]
  },
  {
   "cell_type": "code",
   "execution_count": 108,
   "metadata": {},
   "outputs": [
    {
     "data": {
      "text/plain": [
       "1"
      ]
     },
     "execution_count": 108,
     "metadata": {},
     "output_type": "execute_result"
    }
   ],
   "source": [
    "birthday([4], 4, 1)"
   ]
  },
  {
   "cell_type": "markdown",
   "metadata": {},
   "source": [
    "## Grading Students"
   ]
  },
  {
   "cell_type": "code",
   "execution_count": 129,
   "metadata": {},
   "outputs": [],
   "source": [
    "def gradingStudents(grades):\n",
    "    output = []\n",
    "\n",
    "    for grade in grades:\n",
    "        if grade >= 38 and grade % 5 >= 3:\n",
    "            output.append(5 * (grade//5 + 1))\n",
    "        else:\n",
    "            output.append(grade)\n",
    "\n",
    "    return output"
   ]
  },
  {
   "cell_type": "code",
   "execution_count": 130,
   "metadata": {},
   "outputs": [
    {
     "data": {
      "text/plain": [
       "[75, 67, 40, 33]"
      ]
     },
     "execution_count": 130,
     "metadata": {},
     "output_type": "execute_result"
    }
   ],
   "source": [
    "gradingStudents([73, 67, 38, 33])"
   ]
  },
  {
   "cell_type": "code",
   "execution_count": 131,
   "metadata": {},
   "outputs": [
    {
     "data": {
      "text/plain": [
       "[37, 40, 87, 90, 29]"
      ]
     },
     "execution_count": 131,
     "metadata": {},
     "output_type": "execute_result"
    }
   ],
   "source": [
    "gradingStudents([37, 39, 87, 88, 29])"
   ]
  },
  {
   "cell_type": "markdown",
   "metadata": {},
   "source": [
    "## Migratory Birds"
   ]
  },
  {
   "cell_type": "code",
   "execution_count": 123,
   "metadata": {},
   "outputs": [],
   "source": [
    "def migratoryBirds(arr):\n",
    "    max_count, max_type = 0, None\n",
    "\n",
    "    for type_id in sorted(set(arr)):\n",
    "        count = arr.count(type_id)\n",
    "        if count > max_count:\n",
    "            max_count, max_type = count, type_id\n",
    "\n",
    "    return max_type"
   ]
  },
  {
   "cell_type": "code",
   "execution_count": 124,
   "metadata": {},
   "outputs": [
    {
     "data": {
      "text/plain": [
       "4"
      ]
     },
     "execution_count": 124,
     "metadata": {},
     "output_type": "execute_result"
    }
   ],
   "source": [
    "migratoryBirds([1, 4, 4, 4, 5, 3])"
   ]
  },
  {
   "cell_type": "code",
   "execution_count": 125,
   "metadata": {},
   "outputs": [
    {
     "data": {
      "text/plain": [
       "3"
      ]
     },
     "execution_count": 125,
     "metadata": {},
     "output_type": "execute_result"
    }
   ],
   "source": [
    " migratoryBirds([1, 2, 3, 4, 5, 4, 3, 2, 1, 3, 4])"
   ]
  },
  {
   "cell_type": "markdown",
   "metadata": {},
   "source": [
    "## Divisible Sum Pairs"
   ]
  },
  {
   "cell_type": "code",
   "execution_count": 137,
   "metadata": {},
   "outputs": [],
   "source": [
    "def divisibleSumPairs(n, k, ar):\n",
    "    count = 0\n",
    "\n",
    "    for i in range(n):\n",
    "        for j in range(i + 1, n):\n",
    "            if (ar[i] + ar[j]) % k == 0:\n",
    "                count += 1\n",
    "\n",
    "    return count\n"
   ]
  },
  {
   "cell_type": "code",
   "execution_count": 138,
   "metadata": {},
   "outputs": [
    {
     "data": {
      "text/plain": [
       "5"
      ]
     },
     "execution_count": 138,
     "metadata": {},
     "output_type": "execute_result"
    }
   ],
   "source": [
    "divisibleSumPairs(6, 3, [1, 3, 2, 6, 1, 2])"
   ]
  },
  {
   "cell_type": "markdown",
   "metadata": {},
   "source": [
    "## Day of the Programmer"
   ]
  },
  {
   "cell_type": "code",
   "execution_count": 139,
   "metadata": {},
   "outputs": [],
   "source": [
    "def dayOfProgrammer(year):\n",
    "    if year == 1918:\n",
    "        return \"26.09.1918\"\n",
    "    if year % 4 == 0 and (year < 1918 or year % 400 == 0 or year % 100 != 0):\n",
    "        return \"12.09.{}\".format(year)\n",
    "    return \"13.09.{}\".format(year)\n"
   ]
  },
  {
   "cell_type": "code",
   "execution_count": 140,
   "metadata": {},
   "outputs": [
    {
     "data": {
      "text/plain": [
       "'13.09.2017'"
      ]
     },
     "execution_count": 140,
     "metadata": {},
     "output_type": "execute_result"
    }
   ],
   "source": [
    "dayOfProgrammer(2017)"
   ]
  },
  {
   "cell_type": "markdown",
   "metadata": {},
   "source": [
    "## Bon Appétit"
   ]
  },
  {
   "cell_type": "code",
   "execution_count": 144,
   "metadata": {},
   "outputs": [],
   "source": [
    "def bonAppetit(bill, k, b):\n",
    "    if sum(bill[:k] + bill[k+1:]) / 2 == b:\n",
    "        print(\"Bon Appetit\")\n",
    "    else:\n",
    "        print(int(bill[k] / 2))"
   ]
  },
  {
   "cell_type": "code",
   "execution_count": 145,
   "metadata": {},
   "outputs": [
    {
     "name": "stdout",
     "output_type": "stream",
     "text": [
      "5\n"
     ]
    }
   ],
   "source": [
    "bonAppetit([3, 10, 2, 9], 1, 12)"
   ]
  },
  {
   "cell_type": "code",
   "execution_count": 146,
   "metadata": {},
   "outputs": [
    {
     "name": "stdout",
     "output_type": "stream",
     "text": [
      "Bon Appetit\n"
     ]
    }
   ],
   "source": [
    "bonAppetit([3, 10, 2, 9], 1, 7)"
   ]
  },
  {
   "cell_type": "markdown",
   "metadata": {},
   "source": [
    "## Sock Merchant"
   ]
  },
  {
   "cell_type": "code",
   "execution_count": 147,
   "metadata": {},
   "outputs": [],
   "source": [
    "ar = [10, 20, 20, 10, 10, 30, 50, 10, 20]"
   ]
  },
  {
   "cell_type": "code",
   "execution_count": 149,
   "metadata": {},
   "outputs": [],
   "source": [
    "def sockMerchant(n, ar):\n",
    "    return sum([ar.count(col) // 2 for col in set(ar)])"
   ]
  },
  {
   "cell_type": "code",
   "execution_count": 150,
   "metadata": {},
   "outputs": [
    {
     "data": {
      "text/plain": [
       "3"
      ]
     },
     "execution_count": 150,
     "metadata": {},
     "output_type": "execute_result"
    }
   ],
   "source": [
    "sockMerchant(9, ar)"
   ]
  },
  {
   "cell_type": "markdown",
   "metadata": {},
   "source": [
    "## Electronics Shop"
   ]
  },
  {
   "cell_type": "code",
   "execution_count": 1,
   "metadata": {},
   "outputs": [],
   "source": [
    "def getMoneySpent(keyboards, drives, b):\n",
    "    max_total, min_total = 0, 10000000\n",
    "\n",
    "    for keyboard in keyboards:\n",
    "        for drive in drives:\n",
    "            total = keyboard + drive\n",
    "            if total > max_total and total <= b:\n",
    "                max_total = total\n",
    "            if total < min_total:\n",
    "                min_total = total\n",
    "\n",
    "    if min_total > b:\n",
    "        return -1\n",
    "    return max_total\n"
   ]
  },
  {
   "cell_type": "code",
   "execution_count": 2,
   "metadata": {},
   "outputs": [
    {
     "data": {
      "text/plain": [
       "-1"
      ]
     },
     "execution_count": 2,
     "metadata": {},
     "output_type": "execute_result"
    }
   ],
   "source": [
    "getMoneySpent([4], [5], 5)"
   ]
  },
  {
   "cell_type": "code",
   "execution_count": 3,
   "metadata": {},
   "outputs": [
    {
     "data": {
      "text/plain": [
       "9"
      ]
     },
     "execution_count": 3,
     "metadata": {},
     "output_type": "execute_result"
    }
   ],
   "source": [
    "getMoneySpent([3, 1], [5, 2, 8], 10)"
   ]
  },
  {
   "cell_type": "markdown",
   "metadata": {},
   "source": [
    "## Circular Array Rotation"
   ]
  },
  {
   "cell_type": "code",
   "execution_count": 36,
   "metadata": {
    "ExecuteTime": {
     "end_time": "2019-08-25T01:47:03.795488Z",
     "start_time": "2019-08-25T01:47:03.791499Z"
    }
   },
   "outputs": [],
   "source": [
    "a = [1, 2, 3]\n",
    "k = 101"
   ]
  },
  {
   "cell_type": "code",
   "execution_count": 37,
   "metadata": {
    "ExecuteTime": {
     "end_time": "2019-08-25T01:47:04.076736Z",
     "start_time": "2019-08-25T01:47:04.072747Z"
    }
   },
   "outputs": [],
   "source": [
    "def circularArrayRotation(a, k, queries):\n",
    "    k = k % len(a)\n",
    "    rotated = a[(len(a)-k):] + a[:(len(a)-k)]\n",
    "    return [rotated[i] for i in queries]"
   ]
  },
  {
   "cell_type": "code",
   "execution_count": 38,
   "metadata": {
    "ExecuteTime": {
     "end_time": "2019-08-25T01:47:04.464893Z",
     "start_time": "2019-08-25T01:47:04.459907Z"
    }
   },
   "outputs": [
    {
     "data": {
      "text/plain": [
       "[2, 3, 1]"
      ]
     },
     "execution_count": 38,
     "metadata": {},
     "output_type": "execute_result"
    }
   ],
   "source": [
    "circularArrayRotation(a, k, [0, 1, 2])"
   ]
  },
  {
   "cell_type": "markdown",
   "metadata": {},
   "source": [
    "## Jumping on the Clouds: Revisited\n"
   ]
  },
  {
   "cell_type": "code",
   "execution_count": 47,
   "metadata": {
    "ExecuteTime": {
     "end_time": "2019-08-25T05:18:56.191048Z",
     "start_time": "2019-08-25T05:18:56.188054Z"
    }
   },
   "outputs": [],
   "source": [
    "c = [0, 0, 1, 0, 0, 1, 1, 0]\n",
    "k = 2"
   ]
  },
  {
   "cell_type": "code",
   "execution_count": 48,
   "metadata": {
    "ExecuteTime": {
     "end_time": "2019-08-25T05:18:56.430409Z",
     "start_time": "2019-08-25T05:18:56.427391Z"
    }
   },
   "outputs": [],
   "source": [
    "def jumpingOnClouds(c, k):\n",
    "    current = k % len(c)\n",
    "    energy = 100 - 1 - [0, 2][int(c[current] == 1)]\n",
    "\n",
    "    while current:\n",
    "        current = (current+k) % len(c)\n",
    "        energy -= 1 + [0, 2][int(c[current] == 1)]\n",
    "        \n",
    "    return energy"
   ]
  },
  {
   "cell_type": "code",
   "execution_count": 49,
   "metadata": {
    "ExecuteTime": {
     "end_time": "2019-08-25T05:18:56.518181Z",
     "start_time": "2019-08-25T05:18:56.514194Z"
    }
   },
   "outputs": [
    {
     "data": {
      "text/plain": [
       "92"
      ]
     },
     "execution_count": 49,
     "metadata": {},
     "output_type": "execute_result"
    }
   ],
   "source": [
    "jumpingOnClouds(c, k)"
   ]
  },
  {
   "cell_type": "markdown",
   "metadata": {},
   "source": [
    "## <span class=\"mark\">Append and Delete</span>\n",
    "\n"
   ]
  },
  {
   "cell_type": "code",
   "execution_count": 62,
   "metadata": {
    "ExecuteTime": {
     "end_time": "2019-08-25T05:44:11.664297Z",
     "start_time": "2019-08-25T05:44:11.661305Z"
    }
   },
   "outputs": [],
   "source": [
    "s = \"hackerhappy\"\n",
    "t = \"hackerrank\""
   ]
  },
  {
   "cell_type": "code",
   "execution_count": 74,
   "metadata": {
    "ExecuteTime": {
     "end_time": "2019-08-25T06:03:44.161414Z",
     "start_time": "2019-08-25T06:03:44.155430Z"
    }
   },
   "outputs": [],
   "source": [
    "def appendAndDelete(s, t, k):\n",
    "    n_s, n_t = len(s), len(t)\n",
    "    \n",
    "    if n_s + n_t <= k:\n",
    "        return \"Yes\"\n",
    "    \n",
    "    same = 0\n",
    "    for l_s, l_t in zip(s, t):\n",
    "        if l_s == l_t:\n",
    "            same += 1\n",
    "        else:\n",
    "            break\n",
    "    n_diff = (n_s - same) + (n_t - same)\n",
    "            \n",
    "    if n_diff <= k and n_diff % 2 == k % 2:\n",
    "        return \"Yes\"\n",
    "    return \"No\""
   ]
  },
  {
   "cell_type": "code",
   "execution_count": 75,
   "metadata": {
    "ExecuteTime": {
     "end_time": "2019-08-25T06:03:44.816679Z",
     "start_time": "2019-08-25T06:03:44.811692Z"
    }
   },
   "outputs": [
    {
     "data": {
      "text/plain": [
       "'Yes'"
      ]
     },
     "execution_count": 75,
     "metadata": {},
     "output_type": "execute_result"
    }
   ],
   "source": [
    "appendAndDelete(s, t, 9)"
   ]
  },
  {
   "cell_type": "markdown",
   "metadata": {},
   "source": [
    "### Squares within Range"
   ]
  },
  {
   "cell_type": "code",
   "execution_count": 11,
   "metadata": {
    "ExecuteTime": {
     "end_time": "2019-08-25T20:27:09.040346Z",
     "start_time": "2019-08-25T20:27:09.035316Z"
    }
   },
   "outputs": [],
   "source": [
    "def squares(a, b):\n",
    "    sqrt_a, sqrt_b = a**(1/2), b**(1/2)\n",
    "    lower = [int(sqrt_a), int(sqrt_a)+1][sqrt_a != int(sqrt_a)]\n",
    "    upper = int(sqrt_b)\n",
    "\n",
    "    return upper - lower + 1"
   ]
  },
  {
   "cell_type": "code",
   "execution_count": 12,
   "metadata": {
    "ExecuteTime": {
     "end_time": "2019-08-25T20:27:09.352437Z",
     "start_time": "2019-08-25T20:27:09.348453Z"
    }
   },
   "outputs": [
    {
     "data": {
      "text/plain": [
       "4"
      ]
     },
     "execution_count": 12,
     "metadata": {},
     "output_type": "execute_result"
    }
   ],
   "source": [
    "squares(2, 26)"
   ]
  },
  {
   "cell_type": "markdown",
   "metadata": {},
   "source": [
    "### Cut the Sticks"
   ]
  },
  {
   "cell_type": "code",
   "execution_count": 13,
   "metadata": {
    "ExecuteTime": {
     "end_time": "2019-08-25T20:27:10.101570Z",
     "start_time": "2019-08-25T20:27:10.097580Z"
    }
   },
   "outputs": [],
   "source": [
    "def cutTheSticks(arr):\n",
    "    counts = [len(arr)]\n",
    "\n",
    "    while len(set(arr)) > 1:\n",
    "        shortest = min(arr)\n",
    "        arr = [stick - shortest for stick in arr if stick - shortest != 0]\n",
    "        counts.append(len(arr))\n",
    "\n",
    "    return counts"
   ]
  },
  {
   "cell_type": "code",
   "execution_count": 14,
   "metadata": {
    "ExecuteTime": {
     "end_time": "2019-08-25T20:27:11.213894Z",
     "start_time": "2019-08-25T20:27:11.208908Z"
    }
   },
   "outputs": [
    {
     "data": {
      "text/plain": [
       "[6, 4, 2, 1]"
      ]
     },
     "execution_count": 14,
     "metadata": {},
     "output_type": "execute_result"
    }
   ],
   "source": [
    "cutTheSticks([5, 4, 4, 2, 2, 8])"
   ]
  },
  {
   "cell_type": "markdown",
   "metadata": {},
   "source": [
    "### <span class=\"mark\">Non-Divisible Subset</span>"
   ]
  },
  {
   "cell_type": "code",
   "execution_count": 15,
   "metadata": {
    "ExecuteTime": {
     "end_time": "2019-08-25T20:27:12.187186Z",
     "start_time": "2019-08-25T20:27:12.182199Z"
    }
   },
   "outputs": [],
   "source": [
    "def nonDivisibleSubset(k, s):\n",
    "    counter = [0] * k\n",
    "    # Count thsoe are evenly divisible by k and those are not\n",
    "    for number in s:\n",
    "        counter[number % k] += 1\n",
    "\n",
    "    # Always include one that is evenly divisible by k as adding any others would make\n",
    "    # the sum not\n",
    "    count = min(counter[0], 1)\n",
    "    # Goes until half, and we are comparing i and k-i, including both would not be\n",
    "    # possible\n",
    "    for i in range(1, k//2+1):\n",
    "        if i != k - i:\n",
    "            count += max(counter[i], counter[k-i])\n",
    "        else:\n",
    "            count += min(counter[i], 1)\n",
    "\n",
    "    return count"
   ]
  },
  {
   "cell_type": "code",
   "execution_count": 17,
   "metadata": {
    "ExecuteTime": {
     "end_time": "2019-08-25T20:27:47.037219Z",
     "start_time": "2019-08-25T20:27:47.033229Z"
    }
   },
   "outputs": [
    {
     "data": {
      "text/plain": [
       "3"
      ]
     },
     "execution_count": 17,
     "metadata": {},
     "output_type": "execute_result"
    }
   ],
   "source": [
    "nonDivisibleSubset(3, [1, 7, 2, 4])"
   ]
  },
  {
   "cell_type": "code",
   "execution_count": 18,
   "metadata": {
    "ExecuteTime": {
     "end_time": "2019-08-25T21:51:26.175236Z",
     "start_time": "2019-08-25T21:51:26.170249Z"
    }
   },
   "outputs": [],
   "source": [
    "def queensAttack(n, k, r_q, c_q, obstacles):\n",
    "    # Corner case: only one square\n",
    "    if n == 1:\n",
    "        return 0\n",
    "\n",
    "    count = 0\n",
    "    # row\n",
    "    for i in range(1, c_q):\n",
    "        print([r_q, c_q - i])\n",
    "#         if [r_q, c_q - i] in obstacles:\n",
    "#             break\n",
    "#         else:\n",
    "#             count += 1\n",
    "    for i in range(1, n-c_q+1):\n",
    "        print([r_q, c_q + i])\n",
    "#         if [r_q, c_q + i] in obstacles:\n",
    "#             break\n",
    "#         else:\n",
    "#             count += 1"
   ]
  },
  {
   "cell_type": "code",
   "execution_count": null,
   "metadata": {},
   "outputs": [],
   "source": [
    "queensAttack(n, k, r_q, c_q, obstacles)"
   ]
  }
 ],
 "metadata": {
  "kernelspec": {
   "display_name": "Python 3",
   "language": "python",
   "name": "python3"
  },
  "language_info": {
   "codemirror_mode": {
    "name": "ipython",
    "version": 3
   },
   "file_extension": ".py",
   "mimetype": "text/x-python",
   "name": "python",
   "nbconvert_exporter": "python",
   "pygments_lexer": "ipython3",
   "version": "3.7.3"
  },
  "toc": {
   "base_numbering": 1,
   "nav_menu": {},
   "number_sections": false,
   "sideBar": true,
   "skip_h1_title": false,
   "title_cell": "Table of Contents",
   "title_sidebar": "Contents",
   "toc_cell": false,
   "toc_position": {},
   "toc_section_display": true,
   "toc_window_display": true
  }
 },
 "nbformat": 4,
 "nbformat_minor": 2
}
