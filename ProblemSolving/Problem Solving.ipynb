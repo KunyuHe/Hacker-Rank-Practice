{
 "cells": [
  {
   "cell_type": "code",
   "execution_count": 1,
   "metadata": {
    "ExecuteTime": {
     "end_time": "2019-11-18T15:29:17.347988Z",
     "start_time": "2019-11-18T15:29:17.299084Z"
    }
   },
   "outputs": [],
   "source": [
    "%load_ext autoreload\n",
    "%autoreload 2"
   ]
  },
  {
   "cell_type": "markdown",
   "metadata": {},
   "source": [
    "## Diagonal Difference"
   ]
  },
  {
   "cell_type": "code",
   "execution_count": null,
   "metadata": {},
   "outputs": [],
   "source": [
    "arr = [[11, 2, 4],\n",
    "       [4, 5, 6],\n",
    "       [10, 8, -12]]"
   ]
  },
  {
   "cell_type": "code",
   "execution_count": null,
   "metadata": {},
   "outputs": [],
   "source": [
    "def diagonalDifference(arr):\n",
    "    sum = 0\n",
    "\n",
    "    for i in range(len(arr)):\n",
    "        sum += arr[i][i] - arr[i][-1-i]\n",
    "    \n",
    "    return abs(sum)"
   ]
  },
  {
   "cell_type": "code",
   "execution_count": null,
   "metadata": {},
   "outputs": [],
   "source": [
    "diagonalDifference(arr)"
   ]
  },
  {
   "cell_type": "markdown",
   "metadata": {},
   "source": [
    "## Plus Minus"
   ]
  },
  {
   "cell_type": "code",
   "execution_count": null,
   "metadata": {},
   "outputs": [],
   "source": [
    "arr = [-4, 3, -9, 0, 4, 1]"
   ]
  },
  {
   "cell_type": "code",
   "execution_count": null,
   "metadata": {},
   "outputs": [],
   "source": [
    "def plusMinus(arr):\n",
    "    pos, neg, total = 0, 0, len(arr)\n",
    "    \n",
    "    for num in arr:\n",
    "        pos += num > 0\n",
    "        neg += num < 0\n",
    "    zero = total - pos - neg\n",
    "    \n",
    "    list(map(lambda x: print(\"{:.6f}\".format(round(x/total, 6))), [pos, neg, zero]))"
   ]
  },
  {
   "cell_type": "code",
   "execution_count": null,
   "metadata": {},
   "outputs": [],
   "source": [
    "plusMinus(arr)"
   ]
  },
  {
   "cell_type": "markdown",
   "metadata": {},
   "source": [
    "## Staircase"
   ]
  },
  {
   "cell_type": "code",
   "execution_count": null,
   "metadata": {},
   "outputs": [],
   "source": [
    "def staircase(n):\n",
    "    for i in range(1, n+1):\n",
    "        print((\"#\" * i).rjust(n))"
   ]
  },
  {
   "cell_type": "code",
   "execution_count": null,
   "metadata": {},
   "outputs": [],
   "source": [
    "staircase(6)"
   ]
  },
  {
   "cell_type": "markdown",
   "metadata": {},
   "source": [
    "## Mini-Max Sum"
   ]
  },
  {
   "cell_type": "code",
   "execution_count": null,
   "metadata": {},
   "outputs": [],
   "source": [
    "arr = [-4, 3, -9, 0, 4, 1]"
   ]
  },
  {
   "cell_type": "code",
   "execution_count": null,
   "metadata": {},
   "outputs": [],
   "source": [
    "def miniMaxSum(arr):\n",
    "    sums = [sum(arr[0:i] + arr[i+1:]) for i in range(len(arr))]\n",
    "\n",
    "    print(min(sums), max(sums))\n"
   ]
  },
  {
   "cell_type": "code",
   "execution_count": null,
   "metadata": {},
   "outputs": [],
   "source": [
    "miniMaxSum(arr)"
   ]
  },
  {
   "cell_type": "markdown",
   "metadata": {},
   "source": [
    "## Time Conversion\n"
   ]
  },
  {
   "cell_type": "code",
   "execution_count": null,
   "metadata": {},
   "outputs": [],
   "source": [
    "string = \"12:40:22PM\""
   ]
  },
  {
   "cell_type": "code",
   "execution_count": null,
   "metadata": {},
   "outputs": [],
   "source": [
    "def timeConversion(s):\n",
    "    s = s.strip()\n",
    "    if \"AM\" in s:\n",
    "        if s[:2] == \"12\":\n",
    "            return \"00{}\".format(s[2:-2])\n",
    "        return s[:-2]\n",
    "    if \"PM\" in s and s[:2] == \"12\":\n",
    "        return \"12{}\".format(s[2:-2])\n",
    "    return \"{}{}\".format(int(s[:2]) + 12, s[2:-2])"
   ]
  },
  {
   "cell_type": "code",
   "execution_count": null,
   "metadata": {},
   "outputs": [],
   "source": [
    "timeConversion(string)"
   ]
  },
  {
   "cell_type": "markdown",
   "metadata": {},
   "source": [
    "## Apple and Orange"
   ]
  },
  {
   "cell_type": "code",
   "execution_count": null,
   "metadata": {},
   "outputs": [],
   "source": [
    "def count(s, t, loc, lst):\n",
    "    return sum([(loc + dist) >= s and (loc + dist) <= t for dist in lst])\n",
    "\n",
    "\n",
    "def countApplesAndOranges(s, t, a, b, apples, oranges):\n",
    "    print(count(s, t, a, apples))\n",
    "    print(count(s, t, b, oranges))"
   ]
  },
  {
   "cell_type": "code",
   "execution_count": null,
   "metadata": {},
   "outputs": [],
   "source": [
    "countApplesAndOranges(7, 11, 5, 15, [-2, 2, 1], [5, -6])"
   ]
  },
  {
   "cell_type": "markdown",
   "metadata": {},
   "source": [
    "## Kangaroo"
   ]
  },
  {
   "cell_type": "code",
   "execution_count": null,
   "metadata": {
    "code_folding": []
   },
   "outputs": [],
   "source": [
    "def kangaroo(x1, v1, x2, v2):\n",
    "    if v1 <= v2:\n",
    "        return \"NO\"\n",
    "    elif (x1 - x2) % (v2 - v1) == 0:\n",
    "        return \"YES\"\n",
    "    else:\n",
    "        return \"NO\""
   ]
  },
  {
   "cell_type": "code",
   "execution_count": null,
   "metadata": {},
   "outputs": [],
   "source": [
    "kangaroo(0, 2, 5, 3)"
   ]
  },
  {
   "cell_type": "markdown",
   "metadata": {},
   "source": [
    "## Between Two Sets"
   ]
  },
  {
   "cell_type": "code",
   "execution_count": null,
   "metadata": {},
   "outputs": [],
   "source": [
    "def getTotalX(a, b):\n",
    "    count = 0\n",
    "\n",
    "    for num in range(max(a), min(b) + 1):\n",
    "        if all([num % elem == 0 for elem in a]) and \\\n",
    "           all([elem % num == 0 for elem in b]):\n",
    "            count += 1\n",
    "\n",
    "    print(count)"
   ]
  },
  {
   "cell_type": "code",
   "execution_count": null,
   "metadata": {},
   "outputs": [],
   "source": [
    "getTotalX([2, 4], [16, 32, 96])"
   ]
  },
  {
   "cell_type": "markdown",
   "metadata": {},
   "source": [
    "## Breaking the Records"
   ]
  },
  {
   "cell_type": "code",
   "execution_count": null,
   "metadata": {},
   "outputs": [],
   "source": [
    "def breakingRecords(scores):\n",
    "    score_min = score_max = scores.pop(0)\n",
    "    min_count = max_count = 0\n",
    "\n",
    "    for score in scores:\n",
    "        if score < score_min:\n",
    "            score_min = score\n",
    "            min_count += 1\n",
    "        if score > score_max:\n",
    "            score_max = score\n",
    "            max_count += 1\n",
    "\n",
    "    return min_count, max_count\n"
   ]
  },
  {
   "cell_type": "code",
   "execution_count": null,
   "metadata": {},
   "outputs": [],
   "source": [
    "breakingRecords([3, 4, 21, 36, 10, 28, 35, 5, 24, 42])"
   ]
  },
  {
   "cell_type": "markdown",
   "metadata": {},
   "source": [
    "## Birthday Chocolate"
   ]
  },
  {
   "cell_type": "code",
   "execution_count": null,
   "metadata": {},
   "outputs": [],
   "source": [
    "def birthday(s, d, m):\n",
    "    count = 0\n",
    "\n",
    "    for i in range(len(s) - m + 1):\n",
    "        if sum(s[i:i+m]) == d:\n",
    "            count += 1\n",
    "\n",
    "    return count\n"
   ]
  },
  {
   "cell_type": "code",
   "execution_count": null,
   "metadata": {},
   "outputs": [],
   "source": [
    "birthday([1, 2, 1, 3, 2], 3, 2)"
   ]
  },
  {
   "cell_type": "code",
   "execution_count": null,
   "metadata": {},
   "outputs": [],
   "source": [
    "birthday([1, 1, 1, 1, 1], 3, 2)"
   ]
  },
  {
   "cell_type": "code",
   "execution_count": null,
   "metadata": {},
   "outputs": [],
   "source": [
    "birthday([4], 4, 1)"
   ]
  },
  {
   "cell_type": "markdown",
   "metadata": {},
   "source": [
    "## Grading Students"
   ]
  },
  {
   "cell_type": "code",
   "execution_count": null,
   "metadata": {},
   "outputs": [],
   "source": [
    "def gradingStudents(grades):\n",
    "    output = []\n",
    "\n",
    "    for grade in grades:\n",
    "        if grade >= 38 and grade % 5 >= 3:\n",
    "            output.append(5 * (grade//5 + 1))\n",
    "        else:\n",
    "            output.append(grade)\n",
    "\n",
    "    return output"
   ]
  },
  {
   "cell_type": "code",
   "execution_count": null,
   "metadata": {},
   "outputs": [],
   "source": [
    "gradingStudents([73, 67, 38, 33])"
   ]
  },
  {
   "cell_type": "code",
   "execution_count": null,
   "metadata": {},
   "outputs": [],
   "source": [
    "gradingStudents([37, 39, 87, 88, 29])"
   ]
  },
  {
   "cell_type": "markdown",
   "metadata": {},
   "source": [
    "## Migratory Birds"
   ]
  },
  {
   "cell_type": "code",
   "execution_count": null,
   "metadata": {},
   "outputs": [],
   "source": [
    "def migratoryBirds(arr):\n",
    "    max_count, max_type = 0, None\n",
    "\n",
    "    for type_id in sorted(set(arr)):\n",
    "        count = arr.count(type_id)\n",
    "        if count > max_count:\n",
    "            max_count, max_type = count, type_id\n",
    "\n",
    "    return max_type"
   ]
  },
  {
   "cell_type": "code",
   "execution_count": null,
   "metadata": {},
   "outputs": [],
   "source": [
    "migratoryBirds([1, 4, 4, 4, 5, 3])"
   ]
  },
  {
   "cell_type": "code",
   "execution_count": null,
   "metadata": {},
   "outputs": [],
   "source": [
    " migratoryBirds([1, 2, 3, 4, 5, 4, 3, 2, 1, 3, 4])"
   ]
  },
  {
   "cell_type": "markdown",
   "metadata": {},
   "source": [
    "## Divisible Sum Pairs"
   ]
  },
  {
   "cell_type": "code",
   "execution_count": null,
   "metadata": {},
   "outputs": [],
   "source": [
    "def divisibleSumPairs(n, k, ar):\n",
    "    count = 0\n",
    "\n",
    "    for i in range(n):\n",
    "        for j in range(i + 1, n):\n",
    "            if (ar[i] + ar[j]) % k == 0:\n",
    "                count += 1\n",
    "\n",
    "    return count\n"
   ]
  },
  {
   "cell_type": "code",
   "execution_count": null,
   "metadata": {},
   "outputs": [],
   "source": [
    "divisibleSumPairs(6, 3, [1, 3, 2, 6, 1, 2])"
   ]
  },
  {
   "cell_type": "markdown",
   "metadata": {},
   "source": [
    "## Day of the Programmer"
   ]
  },
  {
   "cell_type": "code",
   "execution_count": null,
   "metadata": {},
   "outputs": [],
   "source": [
    "def dayOfProgrammer(year):\n",
    "    if year == 1918:\n",
    "        return \"26.09.1918\"\n",
    "    if year % 4 == 0 and (year < 1918 or year % 400 == 0 or year % 100 != 0):\n",
    "        return \"12.09.{}\".format(year)\n",
    "    return \"13.09.{}\".format(year)\n"
   ]
  },
  {
   "cell_type": "code",
   "execution_count": null,
   "metadata": {},
   "outputs": [],
   "source": [
    "dayOfProgrammer(2017)"
   ]
  },
  {
   "cell_type": "markdown",
   "metadata": {},
   "source": [
    "## Bon Appétit"
   ]
  },
  {
   "cell_type": "code",
   "execution_count": null,
   "metadata": {},
   "outputs": [],
   "source": [
    "def bonAppetit(bill, k, b):\n",
    "    if sum(bill[:k] + bill[k+1:]) / 2 == b:\n",
    "        print(\"Bon Appetit\")\n",
    "    else:\n",
    "        print(int(bill[k] / 2))"
   ]
  },
  {
   "cell_type": "code",
   "execution_count": null,
   "metadata": {},
   "outputs": [],
   "source": [
    "bonAppetit([3, 10, 2, 9], 1, 12)"
   ]
  },
  {
   "cell_type": "code",
   "execution_count": null,
   "metadata": {},
   "outputs": [],
   "source": [
    "bonAppetit([3, 10, 2, 9], 1, 7)"
   ]
  },
  {
   "cell_type": "markdown",
   "metadata": {},
   "source": [
    "## Sock Merchant"
   ]
  },
  {
   "cell_type": "code",
   "execution_count": null,
   "metadata": {},
   "outputs": [],
   "source": [
    "ar = [10, 20, 20, 10, 10, 30, 50, 10, 20]"
   ]
  },
  {
   "cell_type": "code",
   "execution_count": null,
   "metadata": {},
   "outputs": [],
   "source": [
    "def sockMerchant(n, ar):\n",
    "    return sum([ar.count(col) // 2 for col in set(ar)])"
   ]
  },
  {
   "cell_type": "code",
   "execution_count": null,
   "metadata": {},
   "outputs": [],
   "source": [
    "sockMerchant(9, ar)"
   ]
  },
  {
   "cell_type": "markdown",
   "metadata": {},
   "source": [
    "## Electronics Shop"
   ]
  },
  {
   "cell_type": "code",
   "execution_count": null,
   "metadata": {},
   "outputs": [],
   "source": [
    "def getMoneySpent(keyboards, drives, b):\n",
    "    max_total, min_total = 0, 10000000\n",
    "\n",
    "    for keyboard in keyboards:\n",
    "        for drive in drives:\n",
    "            total = keyboard + drive\n",
    "            if total > max_total and total <= b:\n",
    "                max_total = total\n",
    "            if total < min_total:\n",
    "                min_total = total\n",
    "\n",
    "    if min_total > b:\n",
    "        return -1\n",
    "    return max_total\n"
   ]
  },
  {
   "cell_type": "code",
   "execution_count": null,
   "metadata": {},
   "outputs": [],
   "source": [
    "getMoneySpent([4], [5], 5)"
   ]
  },
  {
   "cell_type": "code",
   "execution_count": null,
   "metadata": {},
   "outputs": [],
   "source": [
    "getMoneySpent([3, 1], [5, 2, 8], 10)"
   ]
  },
  {
   "cell_type": "markdown",
   "metadata": {},
   "source": [
    "## Circular Array Rotation"
   ]
  },
  {
   "cell_type": "code",
   "execution_count": null,
   "metadata": {
    "ExecuteTime": {
     "end_time": "2019-08-25T01:47:03.795488Z",
     "start_time": "2019-08-25T01:47:03.791499Z"
    }
   },
   "outputs": [],
   "source": [
    "a = [1, 2, 3]\n",
    "k = 101"
   ]
  },
  {
   "cell_type": "code",
   "execution_count": null,
   "metadata": {
    "ExecuteTime": {
     "end_time": "2019-08-25T01:47:04.076736Z",
     "start_time": "2019-08-25T01:47:04.072747Z"
    }
   },
   "outputs": [],
   "source": [
    "def circularArrayRotation(a, k, queries):\n",
    "    k = k % len(a)\n",
    "    rotated = a[(len(a)-k):] + a[:(len(a)-k)]\n",
    "    return [rotated[i] for i in queries]"
   ]
  },
  {
   "cell_type": "code",
   "execution_count": null,
   "metadata": {
    "ExecuteTime": {
     "end_time": "2019-08-25T01:47:04.464893Z",
     "start_time": "2019-08-25T01:47:04.459907Z"
    }
   },
   "outputs": [],
   "source": [
    "circularArrayRotation(a, k, [0, 1, 2])"
   ]
  },
  {
   "cell_type": "markdown",
   "metadata": {},
   "source": [
    "## Jumping on the Clouds: Revisited\n"
   ]
  },
  {
   "cell_type": "code",
   "execution_count": null,
   "metadata": {
    "ExecuteTime": {
     "end_time": "2019-08-25T05:18:56.191048Z",
     "start_time": "2019-08-25T05:18:56.188054Z"
    }
   },
   "outputs": [],
   "source": [
    "c = [0, 0, 1, 0, 0, 1, 1, 0]\n",
    "k = 2"
   ]
  },
  {
   "cell_type": "code",
   "execution_count": null,
   "metadata": {
    "ExecuteTime": {
     "end_time": "2019-08-25T05:18:56.430409Z",
     "start_time": "2019-08-25T05:18:56.427391Z"
    }
   },
   "outputs": [],
   "source": [
    "def jumpingOnClouds(c, k):\n",
    "    current = k % len(c)\n",
    "    energy = 100 - 1 - [0, 2][int(c[current] == 1)]\n",
    "\n",
    "    while current:\n",
    "        current = (current+k) % len(c)\n",
    "        energy -= 1 + [0, 2][int(c[current] == 1)]\n",
    "        \n",
    "    return energy"
   ]
  },
  {
   "cell_type": "code",
   "execution_count": null,
   "metadata": {
    "ExecuteTime": {
     "end_time": "2019-08-25T05:18:56.518181Z",
     "start_time": "2019-08-25T05:18:56.514194Z"
    }
   },
   "outputs": [],
   "source": [
    "jumpingOnClouds(c, k)"
   ]
  },
  {
   "cell_type": "markdown",
   "metadata": {},
   "source": [
    "## <span class=\"mark\">Append and Delete</span>\n",
    "\n"
   ]
  },
  {
   "cell_type": "code",
   "execution_count": null,
   "metadata": {
    "ExecuteTime": {
     "end_time": "2019-08-25T05:44:11.664297Z",
     "start_time": "2019-08-25T05:44:11.661305Z"
    }
   },
   "outputs": [],
   "source": [
    "s = \"hackerhappy\"\n",
    "t = \"hackerrank\""
   ]
  },
  {
   "cell_type": "code",
   "execution_count": null,
   "metadata": {
    "ExecuteTime": {
     "end_time": "2019-08-25T06:03:44.161414Z",
     "start_time": "2019-08-25T06:03:44.155430Z"
    }
   },
   "outputs": [],
   "source": [
    "def appendAndDelete(s, t, k):\n",
    "    n_s, n_t = len(s), len(t)\n",
    "    \n",
    "    if n_s + n_t <= k:\n",
    "        return \"Yes\"\n",
    "    \n",
    "    same = 0\n",
    "    for l_s, l_t in zip(s, t):\n",
    "        if l_s == l_t:\n",
    "            same += 1\n",
    "        else:\n",
    "            break\n",
    "    n_diff = (n_s - same) + (n_t - same)\n",
    "            \n",
    "    if n_diff <= k and n_diff % 2 == k % 2:\n",
    "        return \"Yes\"\n",
    "    return \"No\""
   ]
  },
  {
   "cell_type": "code",
   "execution_count": null,
   "metadata": {
    "ExecuteTime": {
     "end_time": "2019-08-25T06:03:44.816679Z",
     "start_time": "2019-08-25T06:03:44.811692Z"
    }
   },
   "outputs": [],
   "source": [
    "appendAndDelete(s, t, 9)"
   ]
  },
  {
   "cell_type": "markdown",
   "metadata": {},
   "source": [
    "## Squares within Range"
   ]
  },
  {
   "cell_type": "code",
   "execution_count": null,
   "metadata": {
    "ExecuteTime": {
     "end_time": "2019-08-25T20:27:09.040346Z",
     "start_time": "2019-08-25T20:27:09.035316Z"
    }
   },
   "outputs": [],
   "source": [
    "def squares(a, b):\n",
    "    sqrt_a, sqrt_b = a**(1/2), b**(1/2)\n",
    "    lower = [int(sqrt_a), int(sqrt_a)+1][sqrt_a != int(sqrt_a)]\n",
    "    upper = int(sqrt_b)\n",
    "\n",
    "    return upper - lower + 1"
   ]
  },
  {
   "cell_type": "code",
   "execution_count": null,
   "metadata": {
    "ExecuteTime": {
     "end_time": "2019-08-25T20:27:09.352437Z",
     "start_time": "2019-08-25T20:27:09.348453Z"
    }
   },
   "outputs": [],
   "source": [
    "squares(2, 26)"
   ]
  },
  {
   "cell_type": "markdown",
   "metadata": {},
   "source": [
    "## Cut the Sticks"
   ]
  },
  {
   "cell_type": "code",
   "execution_count": null,
   "metadata": {
    "ExecuteTime": {
     "end_time": "2019-08-25T20:27:10.101570Z",
     "start_time": "2019-08-25T20:27:10.097580Z"
    }
   },
   "outputs": [],
   "source": [
    "def cutTheSticks(arr):\n",
    "    counts = [len(arr)]\n",
    "\n",
    "    while len(set(arr)) > 1:\n",
    "        shortest = min(arr)\n",
    "        arr = [stick - shortest for stick in arr if stick - shortest != 0]\n",
    "        counts.append(len(arr))\n",
    "\n",
    "    return counts"
   ]
  },
  {
   "cell_type": "code",
   "execution_count": null,
   "metadata": {
    "ExecuteTime": {
     "end_time": "2019-08-25T20:27:11.213894Z",
     "start_time": "2019-08-25T20:27:11.208908Z"
    }
   },
   "outputs": [],
   "source": [
    "cutTheSticks([5, 4, 4, 2, 2, 8])"
   ]
  },
  {
   "cell_type": "markdown",
   "metadata": {},
   "source": [
    "## <span class=\"mark\">Non-Divisible Subset</span>"
   ]
  },
  {
   "cell_type": "code",
   "execution_count": null,
   "metadata": {
    "ExecuteTime": {
     "end_time": "2019-08-25T20:27:12.187186Z",
     "start_time": "2019-08-25T20:27:12.182199Z"
    }
   },
   "outputs": [],
   "source": [
    "def nonDivisibleSubset(k, s):\n",
    "    counter = [0] * k\n",
    "    # Count thsoe are evenly divisible by k and those are not\n",
    "    for number in s:\n",
    "        counter[number % k] += 1\n",
    "\n",
    "    # Always include one that is evenly divisible by k as adding any others would make\n",
    "    # the sum not\n",
    "    count = min(counter[0], 1)\n",
    "    # Goes until half, and we are comparing i and k-i, including both would not be\n",
    "    # possible\n",
    "    for i in range(1, k//2+1):\n",
    "        if i != k - i:\n",
    "            count += max(counter[i], counter[k-i])\n",
    "        else:\n",
    "            count += min(counter[i], 1)\n",
    "\n",
    "    return count"
   ]
  },
  {
   "cell_type": "code",
   "execution_count": null,
   "metadata": {
    "ExecuteTime": {
     "end_time": "2019-08-25T20:27:47.037219Z",
     "start_time": "2019-08-25T20:27:47.033229Z"
    }
   },
   "outputs": [],
   "source": [
    "nonDivisibleSubset(3, [1, 7, 2, 4])"
   ]
  },
  {
   "cell_type": "markdown",
   "metadata": {},
   "source": [
    "## <span class=\"mark\">ACM ICPC Teams</span>"
   ]
  },
  {
   "cell_type": "markdown",
   "metadata": {},
   "source": [
    "__(TIME OUT)__"
   ]
  },
  {
   "cell_type": "code",
   "execution_count": null,
   "metadata": {
    "ExecuteTime": {
     "end_time": "2019-08-26T18:21:23.566461Z",
     "start_time": "2019-08-26T18:21:23.554523Z"
    }
   },
   "outputs": [],
   "source": [
    "def acmTeam1(topic):\n",
    "    _, m = len(topic), len(topic[0])\n",
    "    max_comb, max_count = 0, 0\n",
    "\n",
    "    for p_1, p_2 in combinations(topic, 2):\n",
    "        sum_comb = sum([max(int(p_1[i]), int(p_2[i])) for i in range(m)])\n",
    "        if sum_comb > max_comb:\n",
    "            max_comb = sum_comb\n",
    "            max_count = 1\n",
    "        elif sum_comb == max_comb:\n",
    "            max_count += 1\n",
    "\n",
    "    return max_comb, max_count"
   ]
  },
  {
   "cell_type": "code",
   "execution_count": null,
   "metadata": {
    "ExecuteTime": {
     "end_time": "2019-08-26T18:21:23.904708Z",
     "start_time": "2019-08-26T18:21:23.895726Z"
    }
   },
   "outputs": [],
   "source": [
    "acmTeam2([[1,0,1,0,1], [1,1,1,1,0], [0,0,0,1,0]])"
   ]
  },
  {
   "cell_type": "code",
   "execution_count": null,
   "metadata": {
    "ExecuteTime": {
     "end_time": "2019-08-26T18:21:24.856076Z",
     "start_time": "2019-08-26T18:21:24.850093Z"
    }
   },
   "outputs": [],
   "source": [
    "def acmTeam2(topics):\n",
    "    max_comb, max_count = 0, 0\n",
    "    for comb in combinations(topics, 2):\n",
    "        sum_comb = bin(((int(comb[0], 2) | int(comb[1], 2)))).count('1')\n",
    "        \n",
    "        if sum_comb > max_comb:\n",
    "            max_comb = sum_comb\n",
    "            max_count = 1\n",
    "        elif sum_comb == max_comb:\n",
    "            max_count += 1\n",
    "    \n",
    "    return max_comb, max_count"
   ]
  },
  {
   "cell_type": "code",
   "execution_count": null,
   "metadata": {
    "ExecuteTime": {
     "end_time": "2019-08-26T18:21:25.200194Z",
     "start_time": "2019-08-26T18:21:25.193212Z"
    }
   },
   "outputs": [],
   "source": [
    "acmTeam(['10101', '11110', '00010'])"
   ]
  },
  {
   "cell_type": "markdown",
   "metadata": {},
   "source": [
    "## <span class=\"mark\">Organizing Containers</span>"
   ]
  },
  {
   "cell_type": "code",
   "execution_count": null,
   "metadata": {
    "ExecuteTime": {
     "end_time": "2019-08-26T21:25:37.458587Z",
     "start_time": "2019-08-26T21:25:37.452603Z"
    }
   },
   "outputs": [],
   "source": [
    "arr = [[1, 1],\n",
    "       [1, 1]]"
   ]
  },
  {
   "cell_type": "code",
   "execution_count": null,
   "metadata": {
    "ExecuteTime": {
     "end_time": "2019-08-26T21:25:37.973246Z",
     "start_time": "2019-08-26T21:25:37.965268Z"
    }
   },
   "outputs": [],
   "source": [
    "def organizingContainers(container):\n",
    "    n = len(container)\n",
    "\n",
    "    # For any given container, if we want to make it contain only one\n",
    "    # type `a`, then count of non `a` of it must equals sum of counts\n",
    "    # of all `a` in all other containers. Add count of `a` in the\n",
    "    # container to both ends, count of all balls in the container\n",
    "    # equals count of all `a` balls, row = col\n",
    "    rows, cols = [], [0]*n\n",
    "    for i in range(n):\n",
    "        rows.append(sum(container[i]))\n",
    "        for j in range(n):\n",
    "            cols[j] += container[i][j]\n",
    "    if sorted(rows) == sorted(cols):\n",
    "        return \"Possible\"\n",
    "    return \"Impossible\"\n"
   ]
  },
  {
   "cell_type": "code",
   "execution_count": null,
   "metadata": {
    "ExecuteTime": {
     "end_time": "2019-08-26T21:25:38.519367Z",
     "start_time": "2019-08-26T21:25:38.514377Z"
    }
   },
   "outputs": [],
   "source": [
    "organizingContainers(arr)"
   ]
  },
  {
   "cell_type": "markdown",
   "metadata": {},
   "source": [
    "## Encryption"
   ]
  },
  {
   "cell_type": "code",
   "execution_count": null,
   "metadata": {
    "ExecuteTime": {
     "end_time": "2019-08-26T21:39:36.164556Z",
     "start_time": "2019-08-26T21:39:36.153589Z"
    }
   },
   "outputs": [],
   "source": [
    "def encryption(s):\n",
    "    s = s.replace(\" \", \"\")\n",
    "    l = len(s)\n",
    "    nrow, ncol = int(l**0.5), [int(l**0.5)+1, int(l**0.5)][int(l**0.5)==l**0.5]\n",
    "    if nrow*ncol < l:\n",
    "        nrow = ncol\n",
    "\n",
    "    output = [\"\" for _ in range(ncol)]\n",
    "    for i in range(l):\n",
    "        output[i % ncol] += s[i]\n",
    "\n",
    "    return \" \".join(output)"
   ]
  },
  {
   "cell_type": "code",
   "execution_count": null,
   "metadata": {
    "ExecuteTime": {
     "end_time": "2019-08-26T21:39:36.367617Z",
     "start_time": "2019-08-26T21:39:36.361628Z"
    }
   },
   "outputs": [],
   "source": [
    "encryption('clu hlt io')"
   ]
  },
  {
   "cell_type": "markdown",
   "metadata": {},
   "source": [
    "## <span class=\"mark\">Bigger is Greater (Next Lexicographical Permutation Algorithm)</span>\n",
    "\n"
   ]
  },
  {
   "cell_type": "code",
   "execution_count": null,
   "metadata": {
    "ExecuteTime": {
     "end_time": "2019-08-27T22:27:35.500971Z",
     "start_time": "2019-08-27T22:27:35.487008Z"
    }
   },
   "outputs": [],
   "source": [
    "def biggerIsGreater(w):\n",
    "    # Algorithm: https://www.nayuki.io/page/next-lexicographical-permutation-algorithm\n",
    "    w, ord_w = list(w), [ord(x) for x in w]\n",
    "\n",
    "    # 1. Find largest index i such that array[i − 1] < array[i]\n",
    "    suffix_start = len(w) - 1\n",
    "    while ord_w[max(0, suffix_start - 1)] >= ord_w[suffix_start] and suffix_start != 0:\n",
    "        suffix_start -= 1\n",
    "    # If the entire sequence is non-increasing, it is already the last permutation\n",
    "    if suffix_start == 0:\n",
    "        return \"no answer\"\n",
    "\n",
    "    # 2. Find largest index j such that j ≥ i and array[j] > array[i − 1]\n",
    "    for i_suffix in range(len(w)-1, suffix_start-1, -1):\n",
    "        if ord_w[i_suffix] > ord_w[suffix_start-1]:\n",
    "            # 3. Swap array[j] and array[i − 1]\n",
    "            preffix_end, suffix_min = w[suffix_start-1], w[i_suffix]\n",
    "            w[suffix_start-1], w[i_suffix] = suffix_min, preffix_end\n",
    "            break\n",
    "\n",
    "    # 4. Reverse the suffix starting at array[i]\n",
    "    return \"\".join(w[:suffix_start] + w[suffix_start:][::-1])"
   ]
  },
  {
   "cell_type": "code",
   "execution_count": null,
   "metadata": {
    "ExecuteTime": {
     "end_time": "2019-08-27T22:32:14.298785Z",
     "start_time": "2019-08-27T22:32:14.290809Z"
    }
   },
   "outputs": [],
   "source": [
    "biggerIsGreater('dkhc')"
   ]
  },
  {
   "cell_type": "markdown",
   "metadata": {},
   "source": [
    "## Making Anagrams"
   ]
  },
  {
   "cell_type": "code",
   "execution_count": null,
   "metadata": {
    "ExecuteTime": {
     "end_time": "2019-08-29T16:03:23.608084Z",
     "start_time": "2019-08-29T16:03:18.613443Z"
    }
   },
   "outputs": [],
   "source": [
    "a = input()\n",
    "b = input()"
   ]
  },
  {
   "cell_type": "code",
   "execution_count": null,
   "metadata": {
    "ExecuteTime": {
     "end_time": "2019-08-29T16:03:24.339666Z",
     "start_time": "2019-08-29T16:03:24.328700Z"
    }
   },
   "outputs": [],
   "source": [
    "def makeAnagram(a, b):\n",
    "    shared = {}\n",
    "    for l in a:\n",
    "        if l not in shared:\n",
    "            shared[l] = 1\n",
    "        else:\n",
    "            shared[l] += 1\n",
    "\n",
    "    not_in_a = 0\n",
    "    for l in b:\n",
    "        if l not in shared:\n",
    "            not_in_a += 1\n",
    "        else:\n",
    "            shared[l] = shared[l] - 1\n",
    "\n",
    "    diff = not_in_a\n",
    "    for cnt in shared.values():\n",
    "        diff += abs(cnt)\n",
    "\n",
    "    return diff"
   ]
  },
  {
   "cell_type": "code",
   "execution_count": null,
   "metadata": {
    "ExecuteTime": {
     "end_time": "2019-08-29T16:03:24.912138Z",
     "start_time": "2019-08-29T16:03:24.905161Z"
    }
   },
   "outputs": [],
   "source": [
    "makeAnagram(a, b)"
   ]
  },
  {
   "cell_type": "markdown",
   "metadata": {},
   "source": [
    "## Sherlock and the Valid String"
   ]
  },
  {
   "cell_type": "code",
   "execution_count": null,
   "metadata": {
    "ExecuteTime": {
     "end_time": "2019-08-30T19:33:37.447092Z",
     "start_time": "2019-08-30T19:33:37.434122Z"
    }
   },
   "outputs": [],
   "source": [
    "def isValid(s):\n",
    "    # Count letters in s\n",
    "    s_dict = {}\n",
    "    for l in s:\n",
    "        if l not in s_dict:\n",
    "            s_dict[l] = 1\n",
    "        else:\n",
    "            s_dict[l] += 1\n",
    "\n",
    "    # If all letters in s occurs the same time, return \"YES\"\n",
    "    cnts = s_dict.values()\n",
    "    set_cnts = list(set(cnts))\n",
    "    if len(set_cnts) == 1:\n",
    "        return \"YES\"\n",
    "    # If there are more than 3 unique counts, return \"NO\"\n",
    "    elif len(set_cnts) > 2:\n",
    "        return \"NO\"\n",
    "    \n",
    "    # With two unique counts\n",
    "    for i in range(2):\n",
    "        if list(cnts).count(set_cnts[i]) == 1 and (set_cnts[i] - 1 == set_cnts[i-1] or set_cnts[i] == 1):\n",
    "            return \"YES\"\n",
    "    return \"NO\""
   ]
  },
  {
   "cell_type": "code",
   "execution_count": null,
   "metadata": {
    "ExecuteTime": {
     "end_time": "2019-08-30T19:31:01.389154Z",
     "start_time": "2019-08-30T19:30:59.113239Z"
    }
   },
   "outputs": [],
   "source": [
    "s = input()"
   ]
  },
  {
   "cell_type": "code",
   "execution_count": null,
   "metadata": {
    "ExecuteTime": {
     "end_time": "2019-08-30T19:33:40.538823Z",
     "start_time": "2019-08-30T19:33:40.530843Z"
    }
   },
   "outputs": [],
   "source": [
    "isValid(s)"
   ]
  },
  {
   "cell_type": "markdown",
   "metadata": {},
   "source": [
    "## Special String Again"
   ]
  },
  {
   "cell_type": "markdown",
   "metadata": {},
   "source": [
    "### Find all Substrings"
   ]
  },
  {
   "cell_type": "code",
   "execution_count": null,
   "metadata": {
    "ExecuteTime": {
     "end_time": "2019-08-30T20:01:52.995073Z",
     "start_time": "2019-08-30T20:01:52.991083Z"
    }
   },
   "outputs": [],
   "source": [
    "s = \"Geeks\""
   ]
  },
  {
   "cell_type": "code",
   "execution_count": null,
   "metadata": {
    "ExecuteTime": {
     "end_time": "2019-08-30T20:01:53.337159Z",
     "start_time": "2019-08-30T20:01:53.324192Z"
    }
   },
   "outputs": [],
   "source": [
    "from itertools import combinations\n",
    "\n",
    "def get_all_substrings1(n, s):\n",
    "    return [s[start:end] for start, end in combinations(range(n+1), r=2)]\n",
    "\n",
    "get_all_substrings1(len(s), s)"
   ]
  },
  {
   "cell_type": "code",
   "execution_count": null,
   "metadata": {
    "ExecuteTime": {
     "end_time": "2019-08-30T20:02:18.415972Z",
     "start_time": "2019-08-30T20:02:18.407990Z"
    }
   },
   "outputs": [],
   "source": [
    "def get_all_substrings2(n, s):\n",
    "    return [s[start: end] for start in range(n) for end in range(start+1, n+1)]\n",
    "\n",
    "get_all_substrings2(len(s), s)"
   ]
  },
  {
   "cell_type": "markdown",
   "metadata": {},
   "source": [
    "### Check if All Characters Except the Middle One are the Same"
   ]
  },
  {
   "cell_type": "code",
   "execution_count": null,
   "metadata": {
    "ExecuteTime": {
     "end_time": "2019-08-30T20:19:02.792039Z",
     "start_time": "2019-08-30T20:19:02.787053Z"
    }
   },
   "outputs": [],
   "source": [
    "s = \"keaek\""
   ]
  },
  {
   "cell_type": "code",
   "execution_count": null,
   "metadata": {
    "ExecuteTime": {
     "end_time": "2019-08-30T20:19:03.124166Z",
     "start_time": "2019-08-30T20:19:03.115191Z"
    }
   },
   "outputs": [],
   "source": [
    "def is_valid(s, last=None):\n",
    "    # If it is an empty string or just one letter, it meets the criteria\n",
    "    if len(s) in [0, 1]:\n",
    "        return True\n",
    "\n",
    "    # Initialize the character to check\n",
    "    if not last:\n",
    "        last = s[0]\n",
    "\n",
    "    # Check the condition\n",
    "    if not s[0] == s[-1] == last:\n",
    "        return False\n",
    "\n",
    "    return is_valid(s[1:-1], last)"
   ]
  },
  {
   "cell_type": "code",
   "execution_count": null,
   "metadata": {
    "ExecuteTime": {
     "end_time": "2019-08-30T20:19:03.414726Z",
     "start_time": "2019-08-30T20:19:03.405756Z"
    }
   },
   "outputs": [],
   "source": [
    "is_valid(s, last=None)"
   ]
  },
  {
   "cell_type": "markdown",
   "metadata": {},
   "source": [
    "### (Extended) Check if a String is Symmetric Recursively"
   ]
  },
  {
   "cell_type": "code",
   "execution_count": null,
   "metadata": {
    "ExecuteTime": {
     "end_time": "2019-08-30T19:59:35.202179Z",
     "start_time": "2019-08-30T19:59:35.197186Z"
    }
   },
   "outputs": [],
   "source": [
    "s = \"keaek\""
   ]
  },
  {
   "cell_type": "code",
   "execution_count": null,
   "metadata": {
    "ExecuteTime": {
     "end_time": "2019-08-30T19:59:35.430188Z",
     "start_time": "2019-08-30T19:59:35.423150Z"
    }
   },
   "outputs": [],
   "source": [
    "def is_symmetric(s):\n",
    "    if len(s) in [0, 1]:\n",
    "        return True\n",
    "    if s[0] != s[-1]:\n",
    "        return False\n",
    "    return is_symmetric(s[1:-1])"
   ]
  },
  {
   "cell_type": "code",
   "execution_count": null,
   "metadata": {
    "ExecuteTime": {
     "end_time": "2019-08-30T19:59:35.647104Z",
     "start_time": "2019-08-30T19:59:35.639129Z"
    }
   },
   "outputs": [],
   "source": [
    "is_symmetric(s)"
   ]
  },
  {
   "cell_type": "markdown",
   "metadata": {},
   "source": [
    "### Overall"
   ]
  },
  {
   "cell_type": "code",
   "execution_count": null,
   "metadata": {
    "ExecuteTime": {
     "end_time": "2019-08-30T20:20:17.039294Z",
     "start_time": "2019-08-30T20:20:17.032316Z"
    }
   },
   "outputs": [],
   "source": [
    "def substrCount(n, s):\n",
    "    cnt = 0\n",
    "\n",
    "    for start in range(n):\n",
    "        for end in range(start+1, n+1):\n",
    "            cnt += int(is_valid(s[start:end]))\n",
    "\n",
    "    return cnt"
   ]
  },
  {
   "cell_type": "code",
   "execution_count": null,
   "metadata": {
    "ExecuteTime": {
     "end_time": "2019-08-30T20:19:56.788957Z",
     "start_time": "2019-08-30T20:19:41.845115Z"
    }
   },
   "outputs": [],
   "source": [
    "n = int(input())\n",
    "s = input()"
   ]
  },
  {
   "cell_type": "code",
   "execution_count": null,
   "metadata": {
    "ExecuteTime": {
     "end_time": "2019-08-30T20:20:19.013416Z",
     "start_time": "2019-08-30T20:20:19.005437Z"
    }
   },
   "outputs": [],
   "source": [
    "substrCount(n, s)"
   ]
  },
  {
   "cell_type": "markdown",
   "metadata": {},
   "source": [
    "### Lower Time Complexity"
   ]
  },
  {
   "cell_type": "code",
   "execution_count": null,
   "metadata": {},
   "outputs": [],
   "source": [
    "def substrCount(n, s):\n",
    "    cnt = 0\n",
    "\n",
    "    for start in range(n):\n",
    "        search_until = n + 1\n",
    "        for end in range(start+1, search_until):\n",
    "            if s[end] != s[start] and search_until == n + 1:\n",
    "                search_until = (end - start) + end + 1\n",
    "            cnt += int(is_valid(s[start:end]))\n",
    "\n",
    "    return cnt"
   ]
  },
  {
   "cell_type": "code",
   "execution_count": null,
   "metadata": {},
   "outputs": [],
   "source": []
  },
  {
   "cell_type": "markdown",
   "metadata": {},
   "source": [
    "## Bubble Sort"
   ]
  },
  {
   "cell_type": "code",
   "execution_count": null,
   "metadata": {
    "ExecuteTime": {
     "end_time": "2019-10-17T16:10:59.933082Z",
     "start_time": "2019-10-17T16:10:59.930081Z"
    }
   },
   "outputs": [],
   "source": [
    "a = [6, 4, 1]"
   ]
  },
  {
   "cell_type": "code",
   "execution_count": null,
   "metadata": {
    "ExecuteTime": {
     "end_time": "2019-10-17T16:11:00.291772Z",
     "start_time": "2019-10-17T16:11:00.285759Z"
    }
   },
   "outputs": [],
   "source": [
    "def countSwaps(a, n):\n",
    "    cnt = 0\n",
    "    arr = a[:]\n",
    "\n",
    "    for i in range(n):\n",
    "        for j in range(n-i-1):\n",
    "            if arr[j] > arr[j+1]:\n",
    "                arr[j], arr[j+1] = arr[j+1], arr[j]\n",
    "                cnt += 1\n",
    "    print((\"Array is sorted in %s swaps.\\n\"\n",
    "           \"First Element: %s\\n\"\n",
    "           \"Last Element: %s\" % (cnt, arr[0], arr[-1])))"
   ]
  },
  {
   "cell_type": "code",
   "execution_count": null,
   "metadata": {
    "ExecuteTime": {
     "end_time": "2019-10-17T16:11:00.621081Z",
     "start_time": "2019-10-17T16:11:00.618116Z"
    }
   },
   "outputs": [],
   "source": [
    "countSwaps(a, len(a))"
   ]
  },
  {
   "cell_type": "markdown",
   "metadata": {},
   "source": [
    "## Comparator"
   ]
  },
  {
   "cell_type": "code",
   "execution_count": null,
   "metadata": {
    "ExecuteTime": {
     "end_time": "2019-10-17T16:12:27.324974Z",
     "start_time": "2019-10-17T16:11:55.049931Z"
    }
   },
   "outputs": [],
   "source": [
    "from functools import cmp_to_key\n",
    "class Player:\n",
    "    def __init__(self, name, score):\n",
    "        self.name = name\n",
    "        self.score = score\n",
    "        \n",
    "    def comparator(a, b):\n",
    "        pass\n",
    "\n",
    "n = int(input())\n",
    "data = []\n",
    "for i in range(n):\n",
    "    name, score = input().split()\n",
    "    score = int(score)\n",
    "    player = Player(name, score)\n",
    "    data.append(player)\n",
    "    \n",
    "data = sorted(data, key=cmp_to_key(Player.comparator))\n",
    "for i in data:\n",
    "    print(i.name, i.score)"
   ]
  },
  {
   "cell_type": "code",
   "execution_count": null,
   "metadata": {
    "ExecuteTime": {
     "end_time": "2019-10-17T16:14:31.450007Z",
     "start_time": "2019-10-17T16:14:31.444987Z"
    }
   },
   "outputs": [],
   "source": [
    "def cmp(a,b):\n",
    "    str1 = str(a)+str(b)\n",
    "    str2 = str(b)+str(a)\n",
    "    if str1 > str2:\n",
    "        return 1\n",
    "    elif str1 < str2:\n",
    "        return -1\n",
    "    else:\n",
    "        return 0\n",
    "\n",
    "nums = [1,3,20,15]\n",
    "nums.sort(key=cmp_to_key(cmp))\n",
    "print(nums)"
   ]
  },
  {
   "cell_type": "code",
   "execution_count": null,
   "metadata": {},
   "outputs": [],
   "source": []
  },
  {
   "cell_type": "markdown",
   "metadata": {},
   "source": [
    "## Modified Kaprekar Numbers"
   ]
  },
  {
   "cell_type": "code",
   "execution_count": 2,
   "metadata": {
    "ExecuteTime": {
     "end_time": "2019-11-18T15:29:22.196300Z",
     "start_time": "2019-11-18T15:29:22.152370Z"
    }
   },
   "outputs": [],
   "source": [
    "from ModifiedKaprekarNumbers import kaprekarNumbers"
   ]
  },
  {
   "cell_type": "code",
   "execution_count": 6,
   "metadata": {
    "ExecuteTime": {
     "end_time": "2019-11-18T15:33:06.098272Z",
     "start_time": "2019-11-18T15:33:06.049434Z"
    }
   },
   "outputs": [
    {
     "name": "stdout",
     "output_type": "stream",
     "text": [
      "1 9 45 55 99\n"
     ]
    }
   ],
   "source": [
    "kaprekarNumbers(1, 100)"
   ]
  },
  {
   "cell_type": "markdown",
   "metadata": {},
   "source": [
    "## Beautiful Triplets"
   ]
  },
  {
   "cell_type": "code",
   "execution_count": 17,
   "metadata": {
    "ExecuteTime": {
     "end_time": "2019-11-18T16:31:44.875543Z",
     "start_time": "2019-11-18T16:31:44.825638Z"
    }
   },
   "outputs": [],
   "source": [
    "from BeautifulTriplets import beautifulTriplets\n",
    "arr = [1, 2, 4, 5, 7, 8, 10]\n",
    "d = 3"
   ]
  },
  {
   "cell_type": "code",
   "execution_count": 18,
   "metadata": {
    "ExecuteTime": {
     "end_time": "2019-11-18T16:31:45.209611Z",
     "start_time": "2019-11-18T16:31:45.161765Z"
    }
   },
   "outputs": [
    {
     "data": {
      "text/plain": [
       "3"
      ]
     },
     "execution_count": 18,
     "metadata": {},
     "output_type": "execute_result"
    }
   ],
   "source": [
    "beautifulTriplets(d, arr)"
   ]
  },
  {
   "cell_type": "markdown",
   "metadata": {},
   "source": [
    "## Halloween Sale\n"
   ]
  },
  {
   "cell_type": "code",
   "execution_count": 19,
   "metadata": {
    "ExecuteTime": {
     "end_time": "2019-11-18T17:31:34.847463Z",
     "start_time": "2019-11-18T17:31:34.759433Z"
    }
   },
   "outputs": [],
   "source": [
    "from HalloweenSale import howManyGames"
   ]
  },
  {
   "cell_type": "code",
   "execution_count": 27,
   "metadata": {
    "ExecuteTime": {
     "end_time": "2019-11-18T17:36:14.138390Z",
     "start_time": "2019-11-18T17:36:14.042390Z"
    }
   },
   "outputs": [
    {
     "data": {
      "text/plain": [
       "7"
      ]
     },
     "execution_count": 27,
     "metadata": {},
     "output_type": "execute_result"
    }
   ],
   "source": [
    "howManyGames(20, 3, 6, 85)"
   ]
  },
  {
   "cell_type": "markdown",
   "metadata": {},
   "source": [
    "## Chocolate Feast"
   ]
  },
  {
   "cell_type": "code",
   "execution_count": 30,
   "metadata": {
    "ExecuteTime": {
     "end_time": "2019-11-18T18:12:23.681370Z",
     "start_time": "2019-11-18T18:12:23.525315Z"
    }
   },
   "outputs": [],
   "source": [
    "from ChocolateFeast import chocolateFeast"
   ]
  },
  {
   "cell_type": "code",
   "execution_count": 31,
   "metadata": {
    "ExecuteTime": {
     "end_time": "2019-11-18T18:12:23.837314Z",
     "start_time": "2019-11-18T18:12:23.753348Z"
    }
   },
   "outputs": [
    {
     "data": {
      "text/plain": [
       "6"
      ]
     },
     "execution_count": 31,
     "metadata": {},
     "output_type": "execute_result"
    }
   ],
   "source": [
    "chocolateFeast(10, 2, 5)"
   ]
  },
  {
   "cell_type": "code",
   "execution_count": 32,
   "metadata": {
    "ExecuteTime": {
     "end_time": "2019-11-18T18:12:41.169291Z",
     "start_time": "2019-11-18T18:12:41.085323Z"
    }
   },
   "outputs": [
    {
     "data": {
      "text/plain": [
       "3"
      ]
     },
     "execution_count": 32,
     "metadata": {},
     "output_type": "execute_result"
    }
   ],
   "source": [
    "chocolateFeast(12, 4, 4)"
   ]
  },
  {
   "cell_type": "code",
   "execution_count": null,
   "metadata": {},
   "outputs": [],
   "source": []
  }
 ],
 "metadata": {
  "kernelspec": {
   "display_name": "Python 3",
   "language": "python",
   "name": "python3"
  },
  "language_info": {
   "codemirror_mode": {
    "name": "ipython",
    "version": 3
   },
   "file_extension": ".py",
   "mimetype": "text/x-python",
   "name": "python",
   "nbconvert_exporter": "python",
   "pygments_lexer": "ipython3",
   "version": "3.7.3"
  },
  "latex_envs": {
   "LaTeX_envs_menu_present": true,
   "autoclose": false,
   "autocomplete": true,
   "bibliofile": "biblio.bib",
   "cite_by": "apalike",
   "current_citInitial": 1,
   "eqLabelWithNumbers": true,
   "eqNumInitial": 1,
   "hotkeys": {
    "equation": "Ctrl-E",
    "itemize": "Ctrl-I"
   },
   "labels_anchors": false,
   "latex_user_defs": false,
   "report_style_numbering": false,
   "user_envs_cfg": false
  },
  "toc": {
   "base_numbering": 1,
   "nav_menu": {},
   "number_sections": false,
   "sideBar": true,
   "skip_h1_title": false,
   "title_cell": "Table of Contents",
   "title_sidebar": "Contents",
   "toc_cell": false,
   "toc_position": {
    "height": "calc(100% - 180px)",
    "left": "10px",
    "top": "150px",
    "width": "474.99px"
   },
   "toc_section_display": true,
   "toc_window_display": true
  }
 },
 "nbformat": 4,
 "nbformat_minor": 2
}
